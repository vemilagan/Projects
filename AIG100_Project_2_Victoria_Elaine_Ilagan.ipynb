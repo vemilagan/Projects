{
  "cells": [
    {
      "cell_type": "markdown",
      "id": "e8838b24",
      "metadata": {
        "id": "e8838b24"
      },
      "source": [
        "# AIG 100 – Project 2: Regression and Classification Methods\n"
      ]
    },
    {
      "cell_type": "markdown",
      "source": [
        "#PART 1: REGRESSION"
      ],
      "metadata": {
        "id": "p8o9-CMQt6lL"
      },
      "id": "p8o9-CMQt6lL"
    },
    {
      "cell_type": "markdown",
      "id": "9f7e322f",
      "metadata": {
        "id": "9f7e322f"
      },
      "source": [
        "##1. Dataset Selection and Objective Definition\n",
        "\n",
        "###1.1. Dataset Selection\n",
        "For Regression, I chose Insurance dataset from Kaggle. This dataset contains information on insurance policyholders in the US, with the following features:\n",
        "\n",
        "* age: Age of the primary beneficiary\n",
        "\n",
        "* sex: Insurance contractor gender, female or male\n",
        "\n",
        "* bmi: Body mass index, providing an understanding of body weight that is relatively independent of height\n",
        "\n",
        "* children: Number of children covered by health insurance / number of dependents\n",
        "\n",
        "* smoker: Smoking status\n",
        "\n",
        "* region: The beneficiary's residential area in the US (northeast, southeast, southwest, northwest)\n",
        "\n",
        "* charges: Individual medical costs billed by health insurance\n",
        "\n",
        "The dataset comprises 1,338 entries, suggesting a substantial amount of data to work with for the regression analysis.\n",
        "\n",
        "###1.2. Objective\n",
        "To predict the insurance charges (charges) for individuals based on their age, sex, BMI, number of children, smoking status, and region."
      ]
    },
    {
      "cell_type": "markdown",
      "source": [
        "###Loading the data"
      ],
      "metadata": {
        "id": "dhTp2eIYm-Y4"
      },
      "id": "dhTp2eIYm-Y4"
    },
    {
      "cell_type": "code",
      "source": [
        "import pandas as pd\n",
        "\n",
        "insurance_df = pd.read_csv('insurance.csv')\n",
        "\n",
        "insurance_df.head(), insurance_df.describe()"
      ],
      "metadata": {
        "colab": {
          "base_uri": "https://localhost:8080/"
        },
        "id": "K595dX0TmjZQ",
        "outputId": "88f3a358-e0f0-4aea-bed8-f4310f12b465"
      },
      "id": "K595dX0TmjZQ",
      "execution_count": 2,
      "outputs": [
        {
          "output_type": "execute_result",
          "data": {
            "text/plain": [
              "(   age     sex     bmi  children smoker     region      charges\n",
              " 0   19  female  27.900         0    yes  southwest  16884.92400\n",
              " 1   18    male  33.770         1     no  southeast   1725.55230\n",
              " 2   28    male  33.000         3     no  southeast   4449.46200\n",
              " 3   33    male  22.705         0     no  northwest  21984.47061\n",
              " 4   32    male  28.880         0     no  northwest   3866.85520,\n",
              "                age          bmi     children       charges\n",
              " count  1338.000000  1338.000000  1338.000000   1338.000000\n",
              " mean     39.207025    30.663397     1.094918  13270.422265\n",
              " std      14.049960     6.098187     1.205493  12110.011237\n",
              " min      18.000000    15.960000     0.000000   1121.873900\n",
              " 25%      27.000000    26.296250     0.000000   4740.287150\n",
              " 50%      39.000000    30.400000     1.000000   9382.033000\n",
              " 75%      51.000000    34.693750     2.000000  16639.912515\n",
              " max      64.000000    53.130000     5.000000  63770.428010)"
            ]
          },
          "metadata": {},
          "execution_count": 2
        }
      ]
    },
    {
      "cell_type": "markdown",
      "source": [
        "##2. Data Preprocessing"
      ],
      "metadata": {
        "id": "_xfMXaaqmIlG"
      },
      "id": "_xfMXaaqmIlG"
    },
    {
      "cell_type": "markdown",
      "source": [
        "###2.1. Cleaning the Data"
      ],
      "metadata": {
        "id": "pwxTP1tAnSj-"
      },
      "id": "pwxTP1tAnSj-"
    },
    {
      "cell_type": "code",
      "source": [
        "missing_values = insurance_df.isnull().sum()\n",
        "\n",
        "# Identify outliers in 'charges' using IQR\n",
        "Q1 = insurance_df['charges'].quantile(0.25)\n",
        "Q3 = insurance_df['charges'].quantile(0.75)\n",
        "IQR = Q3 - Q1\n",
        "outliers = ((insurance_df['charges'] < (Q1 - 1.5 * IQR)) | (insurance_df['charges'] > (Q3 + 1.5 * IQR))).sum()\n",
        "\n",
        "missing_values, outliers"
      ],
      "metadata": {
        "colab": {
          "base_uri": "https://localhost:8080/"
        },
        "id": "4aIw85CXmgPB",
        "outputId": "06491081-1bfc-48f0-d3bf-56a7dc2a6f1c"
      },
      "id": "4aIw85CXmgPB",
      "execution_count": 3,
      "outputs": [
        {
          "output_type": "execute_result",
          "data": {
            "text/plain": [
              "(age         0\n",
              " sex         0\n",
              " bmi         0\n",
              " children    0\n",
              " smoker      0\n",
              " region      0\n",
              " charges     0\n",
              " dtype: int64,\n",
              " 139)"
            ]
          },
          "metadata": {},
          "execution_count": 3
        }
      ]
    },
    {
      "cell_type": "markdown",
      "source": [
        "* **Missing Values:** There are no missing values in the dataset, so no imputation or removal of missing data is necessary.\n",
        "* **Outliers:** I have identified 139 outliers in the charges column based on the IQR method. Given the context of medical charges, outliers might represent legitimate variations in medical costs due to various treatments. Therefore, I will retain these outliers rather than removing them, as they could represent important patterns in the data."
      ],
      "metadata": {
        "id": "A7SzDPnknWpH"
      },
      "id": "A7SzDPnknWpH"
    },
    {
      "cell_type": "markdown",
      "source": [
        "\n",
        "### 2.2. Performing necessary transformations"
      ],
      "metadata": {
        "id": "w6RUScOIn7ax"
      },
      "id": "w6RUScOIn7ax"
    },
    {
      "cell_type": "code",
      "source": [
        "# Encode categorical variables using get_dummies for simplicity\n",
        "insurance_encoded = pd.get_dummies(insurance_df, drop_first=True)\n",
        "\n",
        "insurance_encoded.head()"
      ],
      "metadata": {
        "colab": {
          "base_uri": "https://localhost:8080/",
          "height": 226
        },
        "id": "Ri2OkXWCn6-M",
        "outputId": "4b52e2bc-6958-413c-ffbf-0cf5ab93ce5c"
      },
      "id": "Ri2OkXWCn6-M",
      "execution_count": 4,
      "outputs": [
        {
          "output_type": "execute_result",
          "data": {
            "text/plain": [
              "   age     bmi  children      charges  sex_male  smoker_yes  region_northwest  \\\n",
              "0   19  27.900         0  16884.92400         0           1                 0   \n",
              "1   18  33.770         1   1725.55230         1           0                 0   \n",
              "2   28  33.000         3   4449.46200         1           0                 0   \n",
              "3   33  22.705         0  21984.47061         1           0                 1   \n",
              "4   32  28.880         0   3866.85520         1           0                 1   \n",
              "\n",
              "   region_southeast  region_southwest  \n",
              "0                 0                 1  \n",
              "1                 1                 0  \n",
              "2                 1                 0  \n",
              "3                 0                 0  \n",
              "4                 0                 0  "
            ],
            "text/html": [
              "\n",
              "  <div id=\"df-03a6d91a-1f14-4462-ad0b-67a1dcbff4f4\" class=\"colab-df-container\">\n",
              "    <div>\n",
              "<style scoped>\n",
              "    .dataframe tbody tr th:only-of-type {\n",
              "        vertical-align: middle;\n",
              "    }\n",
              "\n",
              "    .dataframe tbody tr th {\n",
              "        vertical-align: top;\n",
              "    }\n",
              "\n",
              "    .dataframe thead th {\n",
              "        text-align: right;\n",
              "    }\n",
              "</style>\n",
              "<table border=\"1\" class=\"dataframe\">\n",
              "  <thead>\n",
              "    <tr style=\"text-align: right;\">\n",
              "      <th></th>\n",
              "      <th>age</th>\n",
              "      <th>bmi</th>\n",
              "      <th>children</th>\n",
              "      <th>charges</th>\n",
              "      <th>sex_male</th>\n",
              "      <th>smoker_yes</th>\n",
              "      <th>region_northwest</th>\n",
              "      <th>region_southeast</th>\n",
              "      <th>region_southwest</th>\n",
              "    </tr>\n",
              "  </thead>\n",
              "  <tbody>\n",
              "    <tr>\n",
              "      <th>0</th>\n",
              "      <td>19</td>\n",
              "      <td>27.900</td>\n",
              "      <td>0</td>\n",
              "      <td>16884.92400</td>\n",
              "      <td>0</td>\n",
              "      <td>1</td>\n",
              "      <td>0</td>\n",
              "      <td>0</td>\n",
              "      <td>1</td>\n",
              "    </tr>\n",
              "    <tr>\n",
              "      <th>1</th>\n",
              "      <td>18</td>\n",
              "      <td>33.770</td>\n",
              "      <td>1</td>\n",
              "      <td>1725.55230</td>\n",
              "      <td>1</td>\n",
              "      <td>0</td>\n",
              "      <td>0</td>\n",
              "      <td>1</td>\n",
              "      <td>0</td>\n",
              "    </tr>\n",
              "    <tr>\n",
              "      <th>2</th>\n",
              "      <td>28</td>\n",
              "      <td>33.000</td>\n",
              "      <td>3</td>\n",
              "      <td>4449.46200</td>\n",
              "      <td>1</td>\n",
              "      <td>0</td>\n",
              "      <td>0</td>\n",
              "      <td>1</td>\n",
              "      <td>0</td>\n",
              "    </tr>\n",
              "    <tr>\n",
              "      <th>3</th>\n",
              "      <td>33</td>\n",
              "      <td>22.705</td>\n",
              "      <td>0</td>\n",
              "      <td>21984.47061</td>\n",
              "      <td>1</td>\n",
              "      <td>0</td>\n",
              "      <td>1</td>\n",
              "      <td>0</td>\n",
              "      <td>0</td>\n",
              "    </tr>\n",
              "    <tr>\n",
              "      <th>4</th>\n",
              "      <td>32</td>\n",
              "      <td>28.880</td>\n",
              "      <td>0</td>\n",
              "      <td>3866.85520</td>\n",
              "      <td>1</td>\n",
              "      <td>0</td>\n",
              "      <td>1</td>\n",
              "      <td>0</td>\n",
              "      <td>0</td>\n",
              "    </tr>\n",
              "  </tbody>\n",
              "</table>\n",
              "</div>\n",
              "    <div class=\"colab-df-buttons\">\n",
              "\n",
              "  <div class=\"colab-df-container\">\n",
              "    <button class=\"colab-df-convert\" onclick=\"convertToInteractive('df-03a6d91a-1f14-4462-ad0b-67a1dcbff4f4')\"\n",
              "            title=\"Convert this dataframe to an interactive table.\"\n",
              "            style=\"display:none;\">\n",
              "\n",
              "  <svg xmlns=\"http://www.w3.org/2000/svg\" height=\"24px\" viewBox=\"0 -960 960 960\">\n",
              "    <path d=\"M120-120v-720h720v720H120Zm60-500h600v-160H180v160Zm220 220h160v-160H400v160Zm0 220h160v-160H400v160ZM180-400h160v-160H180v160Zm440 0h160v-160H620v160ZM180-180h160v-160H180v160Zm440 0h160v-160H620v160Z\"/>\n",
              "  </svg>\n",
              "    </button>\n",
              "\n",
              "  <style>\n",
              "    .colab-df-container {\n",
              "      display:flex;\n",
              "      gap: 12px;\n",
              "    }\n",
              "\n",
              "    .colab-df-convert {\n",
              "      background-color: #E8F0FE;\n",
              "      border: none;\n",
              "      border-radius: 50%;\n",
              "      cursor: pointer;\n",
              "      display: none;\n",
              "      fill: #1967D2;\n",
              "      height: 32px;\n",
              "      padding: 0 0 0 0;\n",
              "      width: 32px;\n",
              "    }\n",
              "\n",
              "    .colab-df-convert:hover {\n",
              "      background-color: #E2EBFA;\n",
              "      box-shadow: 0px 1px 2px rgba(60, 64, 67, 0.3), 0px 1px 3px 1px rgba(60, 64, 67, 0.15);\n",
              "      fill: #174EA6;\n",
              "    }\n",
              "\n",
              "    .colab-df-buttons div {\n",
              "      margin-bottom: 4px;\n",
              "    }\n",
              "\n",
              "    [theme=dark] .colab-df-convert {\n",
              "      background-color: #3B4455;\n",
              "      fill: #D2E3FC;\n",
              "    }\n",
              "\n",
              "    [theme=dark] .colab-df-convert:hover {\n",
              "      background-color: #434B5C;\n",
              "      box-shadow: 0px 1px 3px 1px rgba(0, 0, 0, 0.15);\n",
              "      filter: drop-shadow(0px 1px 2px rgba(0, 0, 0, 0.3));\n",
              "      fill: #FFFFFF;\n",
              "    }\n",
              "  </style>\n",
              "\n",
              "    <script>\n",
              "      const buttonEl =\n",
              "        document.querySelector('#df-03a6d91a-1f14-4462-ad0b-67a1dcbff4f4 button.colab-df-convert');\n",
              "      buttonEl.style.display =\n",
              "        google.colab.kernel.accessAllowed ? 'block' : 'none';\n",
              "\n",
              "      async function convertToInteractive(key) {\n",
              "        const element = document.querySelector('#df-03a6d91a-1f14-4462-ad0b-67a1dcbff4f4');\n",
              "        const dataTable =\n",
              "          await google.colab.kernel.invokeFunction('convertToInteractive',\n",
              "                                                    [key], {});\n",
              "        if (!dataTable) return;\n",
              "\n",
              "        const docLinkHtml = 'Like what you see? Visit the ' +\n",
              "          '<a target=\"_blank\" href=https://colab.research.google.com/notebooks/data_table.ipynb>data table notebook</a>'\n",
              "          + ' to learn more about interactive tables.';\n",
              "        element.innerHTML = '';\n",
              "        dataTable['output_type'] = 'display_data';\n",
              "        await google.colab.output.renderOutput(dataTable, element);\n",
              "        const docLink = document.createElement('div');\n",
              "        docLink.innerHTML = docLinkHtml;\n",
              "        element.appendChild(docLink);\n",
              "      }\n",
              "    </script>\n",
              "  </div>\n",
              "\n",
              "\n",
              "<div id=\"df-018d04f4-1fbf-49cb-b101-93e4e9510625\">\n",
              "  <button class=\"colab-df-quickchart\" onclick=\"quickchart('df-018d04f4-1fbf-49cb-b101-93e4e9510625')\"\n",
              "            title=\"Suggest charts\"\n",
              "            style=\"display:none;\">\n",
              "\n",
              "<svg xmlns=\"http://www.w3.org/2000/svg\" height=\"24px\"viewBox=\"0 0 24 24\"\n",
              "     width=\"24px\">\n",
              "    <g>\n",
              "        <path d=\"M19 3H5c-1.1 0-2 .9-2 2v14c0 1.1.9 2 2 2h14c1.1 0 2-.9 2-2V5c0-1.1-.9-2-2-2zM9 17H7v-7h2v7zm4 0h-2V7h2v10zm4 0h-2v-4h2v4z\"/>\n",
              "    </g>\n",
              "</svg>\n",
              "  </button>\n",
              "\n",
              "<style>\n",
              "  .colab-df-quickchart {\n",
              "      --bg-color: #E8F0FE;\n",
              "      --fill-color: #1967D2;\n",
              "      --hover-bg-color: #E2EBFA;\n",
              "      --hover-fill-color: #174EA6;\n",
              "      --disabled-fill-color: #AAA;\n",
              "      --disabled-bg-color: #DDD;\n",
              "  }\n",
              "\n",
              "  [theme=dark] .colab-df-quickchart {\n",
              "      --bg-color: #3B4455;\n",
              "      --fill-color: #D2E3FC;\n",
              "      --hover-bg-color: #434B5C;\n",
              "      --hover-fill-color: #FFFFFF;\n",
              "      --disabled-bg-color: #3B4455;\n",
              "      --disabled-fill-color: #666;\n",
              "  }\n",
              "\n",
              "  .colab-df-quickchart {\n",
              "    background-color: var(--bg-color);\n",
              "    border: none;\n",
              "    border-radius: 50%;\n",
              "    cursor: pointer;\n",
              "    display: none;\n",
              "    fill: var(--fill-color);\n",
              "    height: 32px;\n",
              "    padding: 0;\n",
              "    width: 32px;\n",
              "  }\n",
              "\n",
              "  .colab-df-quickchart:hover {\n",
              "    background-color: var(--hover-bg-color);\n",
              "    box-shadow: 0 1px 2px rgba(60, 64, 67, 0.3), 0 1px 3px 1px rgba(60, 64, 67, 0.15);\n",
              "    fill: var(--button-hover-fill-color);\n",
              "  }\n",
              "\n",
              "  .colab-df-quickchart-complete:disabled,\n",
              "  .colab-df-quickchart-complete:disabled:hover {\n",
              "    background-color: var(--disabled-bg-color);\n",
              "    fill: var(--disabled-fill-color);\n",
              "    box-shadow: none;\n",
              "  }\n",
              "\n",
              "  .colab-df-spinner {\n",
              "    border: 2px solid var(--fill-color);\n",
              "    border-color: transparent;\n",
              "    border-bottom-color: var(--fill-color);\n",
              "    animation:\n",
              "      spin 1s steps(1) infinite;\n",
              "  }\n",
              "\n",
              "  @keyframes spin {\n",
              "    0% {\n",
              "      border-color: transparent;\n",
              "      border-bottom-color: var(--fill-color);\n",
              "      border-left-color: var(--fill-color);\n",
              "    }\n",
              "    20% {\n",
              "      border-color: transparent;\n",
              "      border-left-color: var(--fill-color);\n",
              "      border-top-color: var(--fill-color);\n",
              "    }\n",
              "    30% {\n",
              "      border-color: transparent;\n",
              "      border-left-color: var(--fill-color);\n",
              "      border-top-color: var(--fill-color);\n",
              "      border-right-color: var(--fill-color);\n",
              "    }\n",
              "    40% {\n",
              "      border-color: transparent;\n",
              "      border-right-color: var(--fill-color);\n",
              "      border-top-color: var(--fill-color);\n",
              "    }\n",
              "    60% {\n",
              "      border-color: transparent;\n",
              "      border-right-color: var(--fill-color);\n",
              "    }\n",
              "    80% {\n",
              "      border-color: transparent;\n",
              "      border-right-color: var(--fill-color);\n",
              "      border-bottom-color: var(--fill-color);\n",
              "    }\n",
              "    90% {\n",
              "      border-color: transparent;\n",
              "      border-bottom-color: var(--fill-color);\n",
              "    }\n",
              "  }\n",
              "</style>\n",
              "\n",
              "  <script>\n",
              "    async function quickchart(key) {\n",
              "      const quickchartButtonEl =\n",
              "        document.querySelector('#' + key + ' button');\n",
              "      quickchartButtonEl.disabled = true;  // To prevent multiple clicks.\n",
              "      quickchartButtonEl.classList.add('colab-df-spinner');\n",
              "      try {\n",
              "        const charts = await google.colab.kernel.invokeFunction(\n",
              "            'suggestCharts', [key], {});\n",
              "      } catch (error) {\n",
              "        console.error('Error during call to suggestCharts:', error);\n",
              "      }\n",
              "      quickchartButtonEl.classList.remove('colab-df-spinner');\n",
              "      quickchartButtonEl.classList.add('colab-df-quickchart-complete');\n",
              "    }\n",
              "    (() => {\n",
              "      let quickchartButtonEl =\n",
              "        document.querySelector('#df-018d04f4-1fbf-49cb-b101-93e4e9510625 button');\n",
              "      quickchartButtonEl.style.display =\n",
              "        google.colab.kernel.accessAllowed ? 'block' : 'none';\n",
              "    })();\n",
              "  </script>\n",
              "</div>\n",
              "\n",
              "    </div>\n",
              "  </div>\n"
            ],
            "application/vnd.google.colaboratory.intrinsic+json": {
              "type": "dataframe",
              "variable_name": "insurance_encoded",
              "summary": "{\n  \"name\": \"insurance_encoded\",\n  \"rows\": 1338,\n  \"fields\": [\n    {\n      \"column\": \"age\",\n      \"properties\": {\n        \"dtype\": \"number\",\n        \"std\": 14,\n        \"min\": 18,\n        \"max\": 64,\n        \"num_unique_values\": 47,\n        \"samples\": [\n          21,\n          45,\n          36\n        ],\n        \"semantic_type\": \"\",\n        \"description\": \"\"\n      }\n    },\n    {\n      \"column\": \"bmi\",\n      \"properties\": {\n        \"dtype\": \"number\",\n        \"std\": 6.098186911679014,\n        \"min\": 15.96,\n        \"max\": 53.13,\n        \"num_unique_values\": 548,\n        \"samples\": [\n          23.18,\n          26.885,\n          29.26\n        ],\n        \"semantic_type\": \"\",\n        \"description\": \"\"\n      }\n    },\n    {\n      \"column\": \"children\",\n      \"properties\": {\n        \"dtype\": \"number\",\n        \"std\": 1,\n        \"min\": 0,\n        \"max\": 5,\n        \"num_unique_values\": 6,\n        \"samples\": [\n          0,\n          1,\n          4\n        ],\n        \"semantic_type\": \"\",\n        \"description\": \"\"\n      }\n    },\n    {\n      \"column\": \"charges\",\n      \"properties\": {\n        \"dtype\": \"number\",\n        \"std\": 12110.011236694001,\n        \"min\": 1121.8739,\n        \"max\": 63770.42801,\n        \"num_unique_values\": 1337,\n        \"samples\": [\n          8688.85885,\n          5708.867,\n          11436.73815\n        ],\n        \"semantic_type\": \"\",\n        \"description\": \"\"\n      }\n    },\n    {\n      \"column\": \"sex_male\",\n      \"properties\": {\n        \"dtype\": \"uint8\",\n        \"num_unique_values\": 2,\n        \"samples\": [\n          1,\n          0\n        ],\n        \"semantic_type\": \"\",\n        \"description\": \"\"\n      }\n    },\n    {\n      \"column\": \"smoker_yes\",\n      \"properties\": {\n        \"dtype\": \"uint8\",\n        \"num_unique_values\": 2,\n        \"samples\": [\n          0,\n          1\n        ],\n        \"semantic_type\": \"\",\n        \"description\": \"\"\n      }\n    },\n    {\n      \"column\": \"region_northwest\",\n      \"properties\": {\n        \"dtype\": \"uint8\",\n        \"num_unique_values\": 2,\n        \"samples\": [\n          1,\n          0\n        ],\n        \"semantic_type\": \"\",\n        \"description\": \"\"\n      }\n    },\n    {\n      \"column\": \"region_southeast\",\n      \"properties\": {\n        \"dtype\": \"uint8\",\n        \"num_unique_values\": 2,\n        \"samples\": [\n          1,\n          0\n        ],\n        \"semantic_type\": \"\",\n        \"description\": \"\"\n      }\n    },\n    {\n      \"column\": \"region_southwest\",\n      \"properties\": {\n        \"dtype\": \"uint8\",\n        \"num_unique_values\": 2,\n        \"samples\": [\n          0,\n          1\n        ],\n        \"semantic_type\": \"\",\n        \"description\": \"\"\n      }\n    }\n  ]\n}"
            }
          },
          "metadata": {},
          "execution_count": 4
        }
      ]
    },
    {
      "cell_type": "markdown",
      "source": [
        "Here, the categorical variables (sex, smoker, region) have been encoded into numerical format using one-hot encoding, making the dataset ready for modeling."
      ],
      "metadata": {
        "id": "0dd8tjuWoiUZ"
      },
      "id": "0dd8tjuWoiUZ"
    },
    {
      "cell_type": "markdown",
      "id": "f3b4af34",
      "metadata": {
        "id": "f3b4af34"
      },
      "source": [
        "##3. Model Implementation"
      ]
    },
    {
      "cell_type": "markdown",
      "source": [
        "We will apply two different regression techniques:\n",
        "\n",
        "*Linear Regression*\n",
        "\n",
        "A straightforward approach that assumes a linear relationship between the input variables and the target.\n",
        "\n",
        "*Decision Tree Regressor*\n",
        "\n",
        "A more complex model that can capture non-linear relationships and interactions between variables."
      ],
      "metadata": {
        "id": "Ny8_pYtDo_32"
      },
      "id": "Ny8_pYtDo_32"
    },
    {
      "cell_type": "markdown",
      "source": [
        "###3.1. Split Data into Training and Testing Sets\n",
        "First, we need to split our data into training and testing sets to evaluate the performance of our models. ​​\n",
        "\n",
        "The data has been split into training and testing sets with the following sizes:\n",
        "\n",
        "Training set: 1070 samples\n",
        "Testing set: 268 samples\n",
        "\n",
        "This split will allow us to train our models on a large portion of the data and then evaluate their performance on unseen data."
      ],
      "metadata": {
        "id": "xzRqMVMMpjjR"
      },
      "id": "xzRqMVMMpjjR"
    },
    {
      "cell_type": "code",
      "source": [
        "from sklearn.model_selection import train_test_split\n",
        "\n",
        "X = insurance_encoded.drop('charges', axis=1)\n",
        "y = insurance_encoded['charges']\n",
        "\n",
        "# Split the dataset into training (80%) and testing (20%) sets\n",
        "X_train, X_test, y_train, y_test = train_test_split(X, y, test_size=0.2, random_state=42)\n",
        "\n",
        "X_train.shape, X_test.shape, y_train.shape, y_test.shape"
      ],
      "metadata": {
        "colab": {
          "base_uri": "https://localhost:8080/"
        },
        "id": "zXSq0_hBpWrn",
        "outputId": "d0d6e115-9e61-41d3-8bfc-b814b7213d20"
      },
      "id": "zXSq0_hBpWrn",
      "execution_count": 5,
      "outputs": [
        {
          "output_type": "execute_result",
          "data": {
            "text/plain": [
              "((1070, 8), (268, 8), (1070,), (268,))"
            ]
          },
          "metadata": {},
          "execution_count": 5
        }
      ]
    },
    {
      "cell_type": "markdown",
      "source": [
        "###3.2. Implement Linear Regression and Decision Tree Regressor"
      ],
      "metadata": {
        "id": "jkZs33NkqJIh"
      },
      "id": "jkZs33NkqJIh"
    },
    {
      "cell_type": "code",
      "source": [
        "from sklearn.linear_model import LinearRegression\n",
        "from sklearn.tree import DecisionTreeRegressor\n",
        "from sklearn.metrics import mean_squared_error, mean_absolute_error, r2_score\n",
        "\n",
        "# Initialize the models\n",
        "linear_reg = LinearRegression()\n",
        "decision_tree = DecisionTreeRegressor(random_state=42)\n",
        "\n",
        "# Train the models\n",
        "linear_reg.fit(X_train, y_train)\n",
        "decision_tree.fit(X_train, y_train)\n",
        "\n",
        "# Predictions\n",
        "y_pred_linear = linear_reg.predict(X_test)\n",
        "y_pred_tree = decision_tree.predict(X_test)\n",
        "\n",
        "# Evaluation Metrics\n",
        "metrics_linear = {\n",
        "    'Mean Absolute Error': mean_absolute_error(y_test, y_pred_linear),\n",
        "    'Mean Squared Error': mean_squared_error(y_test, y_pred_linear),\n",
        "    'Root Mean Squared Error': mean_squared_error(y_test, y_pred_linear, squared=False),\n",
        "    'R^2 Score': r2_score(y_test, y_pred_linear)\n",
        "}\n",
        "\n",
        "metrics_tree = {\n",
        "    'Mean Absolute Error': mean_absolute_error(y_test, y_pred_tree),\n",
        "    'Mean Squared Error': mean_squared_error(y_test, y_pred_tree),\n",
        "    'Root Mean Squared Error': mean_squared_error(y_test, y_pred_tree, squared=False),\n",
        "    'R^2 Score': r2_score(y_test, y_pred_tree)\n",
        "}\n",
        "\n",
        "metrics_linear, metrics_tree"
      ],
      "metadata": {
        "colab": {
          "base_uri": "https://localhost:8080/"
        },
        "id": "GKEi8i5oqYOg",
        "outputId": "11bf7223-fb3e-45e2-c796-56fa2ac32e0e"
      },
      "id": "GKEi8i5oqYOg",
      "execution_count": 6,
      "outputs": [
        {
          "output_type": "execute_result",
          "data": {
            "text/plain": [
              "({'Mean Absolute Error': 4181.19447375365,\n",
              "  'Mean Squared Error': 33596915.85136145,\n",
              "  'Root Mean Squared Error': 5796.284659276273,\n",
              "  'R^2 Score': 0.7835929767120724},\n",
              " {'Mean Absolute Error': 3195.1104733805973,\n",
              "  'Mean Squared Error': 42446908.010150984,\n",
              "  'Root Mean Squared Error': 6515.129162967606,\n",
              "  'R^2 Score': 0.7265877305258355})"
            ]
          },
          "metadata": {},
          "execution_count": 6
        }
      ]
    },
    {
      "cell_type": "markdown",
      "source": [
        "##4. Model Evaluation"
      ],
      "metadata": {
        "id": "aZd59n1mq84v"
      },
      "id": "aZd59n1mq84v"
    },
    {
      "cell_type": "markdown",
      "source": [
        "**Linear Regression Model:**\n",
        "\n",
        "Mean Absolute Error (MAE): 4,181.19\n",
        "Mean Squared Error (MSE): 33,596,915.85\n",
        "Root Mean Squared Error (RMSE): 5,796.28\n",
        "R^2 Score: 0.78\n",
        "\n",
        "**Decision Tree Regressor Model:**\n",
        "\n",
        "Mean Absolute Error (MAE): 3,195.11\n",
        "Mean Squared Error (MSE): 42,446,908.01\n",
        "Root Mean Squared Error (RMSE): 6,515.13\n",
        "R^2 Score: 0.73\n",
        "\n",
        "\n",
        "* The Linear Regression model has a higher R^2 score, indicating that it explains a greater proportion of the variance in the data compared to the Decision Tree Regressor.\n",
        "\n",
        "* The Decision Tree Regressor has a lower MAE, suggesting it makes predictions that are, on average, closer to the actual values, but it has a higher RMSE than the Linear Regression model, indicating more significant errors in some predictions.\n",
        "\n",
        "The decision between these models might depend on the specific requirements of the task. If the goal is to have a model that, on average, makes predictions closer to the actual values (lower MAE), the Decision Tree might be preferred. However, for a more consistent performance across the board (considering both the average error and the variability of the errors), the Linear Regression model shows a slight edge."
      ],
      "metadata": {
        "id": "Nd7X9uPjqtvg"
      },
      "id": "Nd7X9uPjqtvg"
    },
    {
      "cell_type": "markdown",
      "source": [
        "##5. Results Interpretation and Visualization"
      ],
      "metadata": {
        "id": "xqE1aSyjrTPA"
      },
      "id": "xqE1aSyjrTPA"
    },
    {
      "cell_type": "markdown",
      "source": [
        "*Interpretation:*\n",
        "\n",
        "The Linear Regression model, despite its simplicity, effectively captures the linear relationship between the features and the insurance charges, making it a robust choice for this prediction task.\n",
        "The Decision Tree Regressor, although it provides more flexibility to capture non-linear relationships, may overfit to the training data, leading to higher errors for some of the predictions, as indicated by its RMSE."
      ],
      "metadata": {
        "id": "k7igkTbHryBj"
      },
      "id": "k7igkTbHryBj"
    },
    {
      "cell_type": "code",
      "source": [
        "import matplotlib.pyplot as plt\n",
        "import numpy as np\n",
        "\n",
        "# Scatter plot for actual vs predicted values\n",
        "plt.figure(figsize=(18, 6))\n",
        "\n",
        "plt.subplot(1, 2, 1)\n",
        "plt.scatter(y_test, y_pred_linear, alpha=0.6)\n",
        "plt.plot([y_test.min(), y_test.max()], [y_test.min(), y_test.max()], 'k--', lw=2)\n",
        "plt.title('Linear Regression: Actual vs. Predicted Charges')\n",
        "plt.xlabel('Actual')\n",
        "plt.ylabel('Predicted')\n",
        "\n",
        "plt.subplot(1, 2, 2)\n",
        "plt.scatter(y_test, y_pred_tree, alpha=0.6, color='red')\n",
        "plt.plot([y_test.min(), y_test.max()], [y_test.min(), y_test.max()], 'k--', lw=2)\n",
        "plt.title('Decision Tree Regressor: Actual vs. Predicted Charges')\n",
        "plt.xlabel('Actual')\n",
        "plt.ylabel('Predicted')\n",
        "\n",
        "plt.tight_layout()\n",
        "plt.show()"
      ],
      "metadata": {
        "colab": {
          "base_uri": "https://localhost:8080/",
          "height": 299
        },
        "id": "tLViGH6trgAA",
        "outputId": "cc2c94e5-48ed-40c6-8fcb-039520bcbd55"
      },
      "id": "tLViGH6trgAA",
      "execution_count": 7,
      "outputs": [
        {
          "output_type": "display_data",
          "data": {
            "text/plain": [
              "<Figure size 1800x600 with 2 Axes>"
            ],
            "image/png": "[encoded data removed]"
          },
          "metadata": {}
        }
      ]
    },
    {
      "cell_type": "markdown",
      "source": [
        "The scatter plots for the Linear Regression and Decision Tree Regressor models show the actual vs. predicted insurance charges:\n",
        "\n",
        "* In both plots, the dashed line represents the ideal scenario where the predicted values match the actual values perfectly.\n",
        "\n",
        "* The Linear Regression plot demonstrates a fairly strong linear relationship between the actual and predicted values, with predictions generally clustering around the ideal line, especially for lower charges.\n",
        "\n",
        "* The Decision Tree Regressor plot shows a bit more scatter, especially for higher charge values, indicating that while the model captures the general trend, it has some variance in its predictions, particularly for higher insurance charges."
      ],
      "metadata": {
        "id": "oXCr6v7Er5jR"
      },
      "id": "oXCr6v7Er5jR"
    },
    {
      "cell_type": "markdown",
      "source": [
        "##6. Real-world Implications\n",
        "The ability to accurately predict insurance charges has significant implications:\n",
        "\n",
        "* Insurance Companies can utilize these models for pricing policies more effectively, considering individual risk factors.\n",
        "* Policyholders can benefit from transparent and fair pricing of insurance premiums.\n",
        "* Healthcare Policy Makers might use these insights to address factors contributing to high medical costs, promoting preventative measures and healthy lifestyles.\n",
        "\n",
        "##7. Reflection\n",
        "Handling outliers presented a challenge, as their presence could significantly impact model performance. The decision to retain them was based on their potential real-world relevance to healthcare costs.\n",
        "\n",
        "The choice between models highlighted the trade-off between simplicity and capturing complex patterns. Linear Regression offered a good balance for our objective, being easier to interpret and implement.\n",
        "\n",
        "##8. Conclusion\n",
        "This project demonstrated the effectiveness of regression analysis in predicting health insurance charges. The Linear Regression model, in particular, provided a strong balance of simplicity and predictive power, making it an excellent tool for analyzing and predicting insurance costs.\n",
        "\n"
      ],
      "metadata": {
        "id": "ISmuUBXytRqE"
      },
      "id": "ISmuUBXytRqE"
    },
    {
      "cell_type": "markdown",
      "source": [
        "#PART 2: CLASSIFICATION"
      ],
      "metadata": {
        "id": "Ji92nk9puCbC"
      },
      "id": "Ji92nk9puCbC"
    },
    {
      "cell_type": "markdown",
      "source": [
        "##1. Dataset Selection and Objective Definition"
      ],
      "metadata": {
        "id": "CZ_DJh6MuHvk"
      },
      "id": "CZ_DJh6MuHvk"
    },
    {
      "cell_type": "markdown",
      "source": [
        "##1.1. Dataset Selection\n",
        "\n",
        "**Credit Card Fraud Detection Dataset from Kaggle**\n",
        "\n",
        "For the classification task within this project, I've selected a highly pertinent dataset focusing on credit card fraud detection. This dataset is composed of transactions made by European cardholders during September 2013. Among a total of 284,807 transactions, 492 are flagged as fraudulent, representing a mere 0.172% of the dataset. Such a distribution underscores the highly unbalanced nature of the dataset, a common challenge in fraud detection tasks.\n",
        "\n",
        "The dataset predominantly consists of numerical input variables, which are the result of Principal Component Analysis (PCA) transformation. Due to confidentiality reasons, the original features and more detailed background information about the data are not disclosed. As a result, the dataset features labeled V1 through V28 are principal components obtained via PCA, which means they are transformed variables that no longer hold a direct interpretation in their original form.\n",
        "\n",
        "Besides the PCA-transformed features, the dataset includes two untransformed features: 'Time' and 'Amount'. The 'Time' feature denotes the seconds elapsed between each transaction and the first transaction in the dataset. This could potentially be used to identify patterns in transaction activity over time. The 'Amount' feature represents the transaction amount, which can be crucial for identifying transactions that deviate significantly from a cardholder's typical spending pattern.\n",
        "\n",
        "The target variable, 'Class', indicates whether a transaction is fraudulent (1) or not (0), serving as the foundation for our classification task. Given the highly imbalanced nature of this dataset, special attention will be required in preprocessing steps, model selection, and evaluation metrics to effectively detect fraudulent transactions while minimizing the false positive rate. This dataset offers a compelling opportunity to apply and evaluate machine learning techniques in a real-world problem of significant importance—the detection of fraudulent transactions to enhance financial security.\n",
        "\n",
        "\n",
        "##1.2. Objective\n",
        "\n",
        "To classify transactions as fraudulent (1) or not fraudulent (0) using the PCA-transformed features and any other available features like Time and Amount."
      ],
      "metadata": {
        "id": "6InFTB6PuRRx"
      },
      "id": "6InFTB6PuRRx"
    },
    {
      "cell_type": "markdown",
      "source": [
        "##2. Data Preprocessing"
      ],
      "metadata": {
        "id": "b8tgmdCjwnqg"
      },
      "id": "b8tgmdCjwnqg"
    },
    {
      "cell_type": "markdown",
      "source": [
        "###2.1. Loading the Dataset and Initial Preprocessing"
      ],
      "metadata": {
        "id": "02r1IidpW7lL"
      },
      "id": "02r1IidpW7lL"
    },
    {
      "cell_type": "markdown",
      "source": [
        "Given the PCA-transformed features, extensive preprocessing might not be necessary for feature transformation. However, we will:\n",
        "\n",
        "* Scale the 'Time' and 'Amount' features since they are not transformed by PCA.\n",
        "* Handle the imbalanced dataset. We'll explore techniques like SMOTE (Synthetic Minority Over-sampling Technique) or adjust class weights to mitigate the imbalance issue."
      ],
      "metadata": {
        "id": "6xtMjH_ywxJf"
      },
      "id": "6xtMjH_ywxJf"
    },
    {
      "cell_type": "code",
      "source": [
        "import pandas as pd\n",
        "from sklearn.preprocessing import StandardScaler\n",
        "\n",
        "# Load the dataset\n",
        "credit_df = pd.read_csv('creditcard.csv')"
      ],
      "metadata": {
        "id": "3iQWQx_XwXY5"
      },
      "id": "3iQWQx_XwXY5",
      "execution_count": 18,
      "outputs": []
    },
    {
      "cell_type": "code",
      "source": [
        "# Scaling 'Time' and 'Amount' features\n",
        "scaler = StandardScaler()\n",
        "credit_df['scaled_amount'] = scaler.fit_transform(credit_df[['Amount']])\n",
        "credit_df['scaled_time'] = scaler.fit_transform(credit_df[['Time']])\n",
        "\n",
        "# Drop the original 'Time' and 'Amount' features\n",
        "credit_df.drop(['Time', 'Amount'], axis=1, inplace=True)\n",
        "\n",
        "credit_df.head()"
      ],
      "metadata": {
        "colab": {
          "base_uri": "https://localhost:8080/",
          "height": 256
        },
        "id": "15K6EHDrYOqH",
        "outputId": "322bfaa9-177c-47d7-a632-bc55fbf47dab"
      },
      "id": "15K6EHDrYOqH",
      "execution_count": 19,
      "outputs": [
        {
          "output_type": "execute_result",
          "data": {
            "text/plain": [
              "         V1        V2        V3        V4        V5        V6        V7  \\\n",
              "0 -1.359807 -0.072781  2.536347  1.378155 -0.338321  0.462388  0.239599   \n",
              "1  1.191857  0.266151  0.166480  0.448154  0.060018 -0.082361 -0.078803   \n",
              "2 -1.358354 -1.340163  1.773209  0.379780 -0.503198  1.800499  0.791461   \n",
              "3 -0.966272 -0.185226  1.792993 -0.863291 -0.010309  1.247203  0.237609   \n",
              "4 -1.158233  0.877737  1.548718  0.403034 -0.407193  0.095921  0.592941   \n",
              "\n",
              "         V8        V9       V10  ...       V22       V23       V24       V25  \\\n",
              "0  0.098698  0.363787  0.090794  ...  0.277838 -0.110474  0.066928  0.128539   \n",
              "1  0.085102 -0.255425 -0.166974  ... -0.638672  0.101288 -0.339846  0.167170   \n",
              "2  0.247676 -1.514654  0.207643  ...  0.771679  0.909412 -0.689281 -0.327642   \n",
              "3  0.377436 -1.387024 -0.054952  ...  0.005274 -0.190321 -1.175575  0.647376   \n",
              "4 -0.270533  0.817739  0.753074  ...  0.798278 -0.137458  0.141267 -0.206010   \n",
              "\n",
              "        V26       V27       V28  Class  scaled_amount  scaled_time  \n",
              "0 -0.189115  0.133558 -0.021053      0       0.244964    -1.996583  \n",
              "1  0.125895 -0.008983  0.014724      0      -0.342475    -1.996583  \n",
              "2 -0.139097 -0.055353 -0.059752      0       1.160686    -1.996562  \n",
              "3 -0.221929  0.062723  0.061458      0       0.140534    -1.996562  \n",
              "4  0.502292  0.219422  0.215153      0      -0.073403    -1.996541  \n",
              "\n",
              "[5 rows x 31 columns]"
            ],
            "text/html": [
              "\n",
              "  <div id=\"df-97ee271b-f8af-42ca-b81d-66f1a3855b14\" class=\"colab-df-container\">\n",
              "    <div>\n",
              "<style scoped>\n",
              "    .dataframe tbody tr th:only-of-type {\n",
              "        vertical-align: middle;\n",
              "    }\n",
              "\n",
              "    .dataframe tbody tr th {\n",
              "        vertical-align: top;\n",
              "    }\n",
              "\n",
              "    .dataframe thead th {\n",
              "        text-align: right;\n",
              "    }\n",
              "</style>\n",
              "<table border=\"1\" class=\"dataframe\">\n",
              "  <thead>\n",
              "    <tr style=\"text-align: right;\">\n",
              "      <th></th>\n",
              "      <th>V1</th>\n",
              "      <th>V2</th>\n",
              "      <th>V3</th>\n",
              "      <th>V4</th>\n",
              "      <th>V5</th>\n",
              "      <th>V6</th>\n",
              "      <th>V7</th>\n",
              "      <th>V8</th>\n",
              "      <th>V9</th>\n",
              "      <th>V10</th>\n",
              "      <th>...</th>\n",
              "      <th>V22</th>\n",
              "      <th>V23</th>\n",
              "      <th>V24</th>\n",
              "      <th>V25</th>\n",
              "      <th>V26</th>\n",
              "      <th>V27</th>\n",
              "      <th>V28</th>\n",
              "      <th>Class</th>\n",
              "      <th>scaled_amount</th>\n",
              "      <th>scaled_time</th>\n",
              "    </tr>\n",
              "  </thead>\n",
              "  <tbody>\n",
              "    <tr>\n",
              "      <th>0</th>\n",
              "      <td>-1.359807</td>\n",
              "      <td>-0.072781</td>\n",
              "      <td>2.536347</td>\n",
              "      <td>1.378155</td>\n",
              "      <td>-0.338321</td>\n",
              "      <td>0.462388</td>\n",
              "      <td>0.239599</td>\n",
              "      <td>0.098698</td>\n",
              "      <td>0.363787</td>\n",
              "      <td>0.090794</td>\n",
              "      <td>...</td>\n",
              "      <td>0.277838</td>\n",
              "      <td>-0.110474</td>\n",
              "      <td>0.066928</td>\n",
              "      <td>0.128539</td>\n",
              "      <td>-0.189115</td>\n",
              "      <td>0.133558</td>\n",
              "      <td>-0.021053</td>\n",
              "      <td>0</td>\n",
              "      <td>0.244964</td>\n",
              "      <td>-1.996583</td>\n",
              "    </tr>\n",
              "    <tr>\n",
              "      <th>1</th>\n",
              "      <td>1.191857</td>\n",
              "      <td>0.266151</td>\n",
              "      <td>0.166480</td>\n",
              "      <td>0.448154</td>\n",
              "      <td>0.060018</td>\n",
              "      <td>-0.082361</td>\n",
              "      <td>-0.078803</td>\n",
              "      <td>0.085102</td>\n",
              "      <td>-0.255425</td>\n",
              "      <td>-0.166974</td>\n",
              "      <td>...</td>\n",
              "      <td>-0.638672</td>\n",
              "      <td>0.101288</td>\n",
              "      <td>-0.339846</td>\n",
              "      <td>0.167170</td>\n",
              "      <td>0.125895</td>\n",
              "      <td>-0.008983</td>\n",
              "      <td>0.014724</td>\n",
              "      <td>0</td>\n",
              "      <td>-0.342475</td>\n",
              "      <td>-1.996583</td>\n",
              "    </tr>\n",
              "    <tr>\n",
              "      <th>2</th>\n",
              "      <td>-1.358354</td>\n",
              "      <td>-1.340163</td>\n",
              "      <td>1.773209</td>\n",
              "      <td>0.379780</td>\n",
              "      <td>-0.503198</td>\n",
              "      <td>1.800499</td>\n",
              "      <td>0.791461</td>\n",
              "      <td>0.247676</td>\n",
              "      <td>-1.514654</td>\n",
              "      <td>0.207643</td>\n",
              "      <td>...</td>\n",
              "      <td>0.771679</td>\n",
              "      <td>0.909412</td>\n",
              "      <td>-0.689281</td>\n",
              "      <td>-0.327642</td>\n",
              "      <td>-0.139097</td>\n",
              "      <td>-0.055353</td>\n",
              "      <td>-0.059752</td>\n",
              "      <td>0</td>\n",
              "      <td>1.160686</td>\n",
              "      <td>-1.996562</td>\n",
              "    </tr>\n",
              "    <tr>\n",
              "      <th>3</th>\n",
              "      <td>-0.966272</td>\n",
              "      <td>-0.185226</td>\n",
              "      <td>1.792993</td>\n",
              "      <td>-0.863291</td>\n",
              "      <td>-0.010309</td>\n",
              "      <td>1.247203</td>\n",
              "      <td>0.237609</td>\n",
              "      <td>0.377436</td>\n",
              "      <td>-1.387024</td>\n",
              "      <td>-0.054952</td>\n",
              "      <td>...</td>\n",
              "      <td>0.005274</td>\n",
              "      <td>-0.190321</td>\n",
              "      <td>-1.175575</td>\n",
              "      <td>0.647376</td>\n",
              "      <td>-0.221929</td>\n",
              "      <td>0.062723</td>\n",
              "      <td>0.061458</td>\n",
              "      <td>0</td>\n",
              "      <td>0.140534</td>\n",
              "      <td>-1.996562</td>\n",
              "    </tr>\n",
              "    <tr>\n",
              "      <th>4</th>\n",
              "      <td>-1.158233</td>\n",
              "      <td>0.877737</td>\n",
              "      <td>1.548718</td>\n",
              "      <td>0.403034</td>\n",
              "      <td>-0.407193</td>\n",
              "      <td>0.095921</td>\n",
              "      <td>0.592941</td>\n",
              "      <td>-0.270533</td>\n",
              "      <td>0.817739</td>\n",
              "      <td>0.753074</td>\n",
              "      <td>...</td>\n",
              "      <td>0.798278</td>\n",
              "      <td>-0.137458</td>\n",
              "      <td>0.141267</td>\n",
              "      <td>-0.206010</td>\n",
              "      <td>0.502292</td>\n",
              "      <td>0.219422</td>\n",
              "      <td>0.215153</td>\n",
              "      <td>0</td>\n",
              "      <td>-0.073403</td>\n",
              "      <td>-1.996541</td>\n",
              "    </tr>\n",
              "  </tbody>\n",
              "</table>\n",
              "<p>5 rows × 31 columns</p>\n",
              "</div>\n",
              "    <div class=\"colab-df-buttons\">\n",
              "\n",
              "  <div class=\"colab-df-container\">\n",
              "    <button class=\"colab-df-convert\" onclick=\"convertToInteractive('df-97ee271b-f8af-42ca-b81d-66f1a3855b14')\"\n",
              "            title=\"Convert this dataframe to an interactive table.\"\n",
              "            style=\"display:none;\">\n",
              "\n",
              "  <svg xmlns=\"http://www.w3.org/2000/svg\" height=\"24px\" viewBox=\"0 -960 960 960\">\n",
              "    <path d=\"M120-120v-720h720v720H120Zm60-500h600v-160H180v160Zm220 220h160v-160H400v160Zm0 220h160v-160H400v160ZM180-400h160v-160H180v160Zm440 0h160v-160H620v160ZM180-180h160v-160H180v160Zm440 0h160v-160H620v160Z\"/>\n",
              "  </svg>\n",
              "    </button>\n",
              "\n",
              "  <style>\n",
              "    .colab-df-container {\n",
              "      display:flex;\n",
              "      gap: 12px;\n",
              "    }\n",
              "\n",
              "    .colab-df-convert {\n",
              "      background-color: #E8F0FE;\n",
              "      border: none;\n",
              "      border-radius: 50%;\n",
              "      cursor: pointer;\n",
              "      display: none;\n",
              "      fill: #1967D2;\n",
              "      height: 32px;\n",
              "      padding: 0 0 0 0;\n",
              "      width: 32px;\n",
              "    }\n",
              "\n",
              "    .colab-df-convert:hover {\n",
              "      background-color: #E2EBFA;\n",
              "      box-shadow: 0px 1px 2px rgba(60, 64, 67, 0.3), 0px 1px 3px 1px rgba(60, 64, 67, 0.15);\n",
              "      fill: #174EA6;\n",
              "    }\n",
              "\n",
              "    .colab-df-buttons div {\n",
              "      margin-bottom: 4px;\n",
              "    }\n",
              "\n",
              "    [theme=dark] .colab-df-convert {\n",
              "      background-color: #3B4455;\n",
              "      fill: #D2E3FC;\n",
              "    }\n",
              "\n",
              "    [theme=dark] .colab-df-convert:hover {\n",
              "      background-color: #434B5C;\n",
              "      box-shadow: 0px 1px 3px 1px rgba(0, 0, 0, 0.15);\n",
              "      filter: drop-shadow(0px 1px 2px rgba(0, 0, 0, 0.3));\n",
              "      fill: #FFFFFF;\n",
              "    }\n",
              "  </style>\n",
              "\n",
              "    <script>\n",
              "      const buttonEl =\n",
              "        document.querySelector('#df-97ee271b-f8af-42ca-b81d-66f1a3855b14 button.colab-df-convert');\n",
              "      buttonEl.style.display =\n",
              "        google.colab.kernel.accessAllowed ? 'block' : 'none';\n",
              "\n",
              "      async function convertToInteractive(key) {\n",
              "        const element = document.querySelector('#df-97ee271b-f8af-42ca-b81d-66f1a3855b14');\n",
              "        const dataTable =\n",
              "          await google.colab.kernel.invokeFunction('convertToInteractive',\n",
              "                                                    [key], {});\n",
              "        if (!dataTable) return;\n",
              "\n",
              "        const docLinkHtml = 'Like what you see? Visit the ' +\n",
              "          '<a target=\"_blank\" href=https://colab.research.google.com/notebooks/data_table.ipynb>data table notebook</a>'\n",
              "          + ' to learn more about interactive tables.';\n",
              "        element.innerHTML = '';\n",
              "        dataTable['output_type'] = 'display_data';\n",
              "        await google.colab.output.renderOutput(dataTable, element);\n",
              "        const docLink = document.createElement('div');\n",
              "        docLink.innerHTML = docLinkHtml;\n",
              "        element.appendChild(docLink);\n",
              "      }\n",
              "    </script>\n",
              "  </div>\n",
              "\n",
              "\n",
              "<div id=\"df-9449b8d1-a55c-452a-bfee-0b3818656fa5\">\n",
              "  <button class=\"colab-df-quickchart\" onclick=\"quickchart('df-9449b8d1-a55c-452a-bfee-0b3818656fa5')\"\n",
              "            title=\"Suggest charts\"\n",
              "            style=\"display:none;\">\n",
              "\n",
              "<svg xmlns=\"http://www.w3.org/2000/svg\" height=\"24px\"viewBox=\"0 0 24 24\"\n",
              "     width=\"24px\">\n",
              "    <g>\n",
              "        <path d=\"M19 3H5c-1.1 0-2 .9-2 2v14c0 1.1.9 2 2 2h14c1.1 0 2-.9 2-2V5c0-1.1-.9-2-2-2zM9 17H7v-7h2v7zm4 0h-2V7h2v10zm4 0h-2v-4h2v4z\"/>\n",
              "    </g>\n",
              "</svg>\n",
              "  </button>\n",
              "\n",
              "<style>\n",
              "  .colab-df-quickchart {\n",
              "      --bg-color: #E8F0FE;\n",
              "      --fill-color: #1967D2;\n",
              "      --hover-bg-color: #E2EBFA;\n",
              "      --hover-fill-color: #174EA6;\n",
              "      --disabled-fill-color: #AAA;\n",
              "      --disabled-bg-color: #DDD;\n",
              "  }\n",
              "\n",
              "  [theme=dark] .colab-df-quickchart {\n",
              "      --bg-color: #3B4455;\n",
              "      --fill-color: #D2E3FC;\n",
              "      --hover-bg-color: #434B5C;\n",
              "      --hover-fill-color: #FFFFFF;\n",
              "      --disabled-bg-color: #3B4455;\n",
              "      --disabled-fill-color: #666;\n",
              "  }\n",
              "\n",
              "  .colab-df-quickchart {\n",
              "    background-color: var(--bg-color);\n",
              "    border: none;\n",
              "    border-radius: 50%;\n",
              "    cursor: pointer;\n",
              "    display: none;\n",
              "    fill: var(--fill-color);\n",
              "    height: 32px;\n",
              "    padding: 0;\n",
              "    width: 32px;\n",
              "  }\n",
              "\n",
              "  .colab-df-quickchart:hover {\n",
              "    background-color: var(--hover-bg-color);\n",
              "    box-shadow: 0 1px 2px rgba(60, 64, 67, 0.3), 0 1px 3px 1px rgba(60, 64, 67, 0.15);\n",
              "    fill: var(--button-hover-fill-color);\n",
              "  }\n",
              "\n",
              "  .colab-df-quickchart-complete:disabled,\n",
              "  .colab-df-quickchart-complete:disabled:hover {\n",
              "    background-color: var(--disabled-bg-color);\n",
              "    fill: var(--disabled-fill-color);\n",
              "    box-shadow: none;\n",
              "  }\n",
              "\n",
              "  .colab-df-spinner {\n",
              "    border: 2px solid var(--fill-color);\n",
              "    border-color: transparent;\n",
              "    border-bottom-color: var(--fill-color);\n",
              "    animation:\n",
              "      spin 1s steps(1) infinite;\n",
              "  }\n",
              "\n",
              "  @keyframes spin {\n",
              "    0% {\n",
              "      border-color: transparent;\n",
              "      border-bottom-color: var(--fill-color);\n",
              "      border-left-color: var(--fill-color);\n",
              "    }\n",
              "    20% {\n",
              "      border-color: transparent;\n",
              "      border-left-color: var(--fill-color);\n",
              "      border-top-color: var(--fill-color);\n",
              "    }\n",
              "    30% {\n",
              "      border-color: transparent;\n",
              "      border-left-color: var(--fill-color);\n",
              "      border-top-color: var(--fill-color);\n",
              "      border-right-color: var(--fill-color);\n",
              "    }\n",
              "    40% {\n",
              "      border-color: transparent;\n",
              "      border-right-color: var(--fill-color);\n",
              "      border-top-color: var(--fill-color);\n",
              "    }\n",
              "    60% {\n",
              "      border-color: transparent;\n",
              "      border-right-color: var(--fill-color);\n",
              "    }\n",
              "    80% {\n",
              "      border-color: transparent;\n",
              "      border-right-color: var(--fill-color);\n",
              "      border-bottom-color: var(--fill-color);\n",
              "    }\n",
              "    90% {\n",
              "      border-color: transparent;\n",
              "      border-bottom-color: var(--fill-color);\n",
              "    }\n",
              "  }\n",
              "</style>\n",
              "\n",
              "  <script>\n",
              "    async function quickchart(key) {\n",
              "      const quickchartButtonEl =\n",
              "        document.querySelector('#' + key + ' button');\n",
              "      quickchartButtonEl.disabled = true;  // To prevent multiple clicks.\n",
              "      quickchartButtonEl.classList.add('colab-df-spinner');\n",
              "      try {\n",
              "        const charts = await google.colab.kernel.invokeFunction(\n",
              "            'suggestCharts', [key], {});\n",
              "      } catch (error) {\n",
              "        console.error('Error during call to suggestCharts:', error);\n",
              "      }\n",
              "      quickchartButtonEl.classList.remove('colab-df-spinner');\n",
              "      quickchartButtonEl.classList.add('colab-df-quickchart-complete');\n",
              "    }\n",
              "    (() => {\n",
              "      let quickchartButtonEl =\n",
              "        document.querySelector('#df-9449b8d1-a55c-452a-bfee-0b3818656fa5 button');\n",
              "      quickchartButtonEl.style.display =\n",
              "        google.colab.kernel.accessAllowed ? 'block' : 'none';\n",
              "    })();\n",
              "  </script>\n",
              "</div>\n",
              "\n",
              "    </div>\n",
              "  </div>\n"
            ],
            "application/vnd.google.colaboratory.intrinsic+json": {
              "type": "dataframe",
              "variable_name": "credit_df"
            }
          },
          "metadata": {},
          "execution_count": 19
        }
      ]
    },
    {
      "cell_type": "markdown",
      "source": [
        "##2.2. Addressing the Imbalance"
      ],
      "metadata": {
        "id": "3umhVkr0XEc4"
      },
      "id": "3umhVkr0XEc4"
    },
    {
      "cell_type": "markdown",
      "source": [
        "The dataset's significant class imbalance requires special attention. Here, we can use SMOTE (Synthetic Minority Over-sampling Technique) to oversample the minority class, making the dataset more balanced.\n"
      ],
      "metadata": {
        "id": "VlZdyumhXR61"
      },
      "id": "VlZdyumhXR61"
    },
    {
      "cell_type": "code",
      "source": [
        "from imblearn.over_sampling import SMOTE\n",
        "from sklearn.model_selection import train_test_split\n",
        "\n",
        "X = credit_df.drop('Class', axis=1)\n",
        "y = credit_df['Class']\n",
        "\n",
        "# Split data into training and test sets\n",
        "X_train, X_test, y_train, y_test = train_test_split(X, y, test_size=0.2, random_state=42)\n",
        "\n",
        "# Apply SMOTE\n",
        "smote = SMOTE(random_state=42)\n",
        "X_train_res, y_train_res = smote.fit_resample(X_train, y_train)\n"
      ],
      "metadata": {
        "id": "y0J0pF4_xi7N"
      },
      "id": "y0J0pF4_xi7N",
      "execution_count": 20,
      "outputs": []
    },
    {
      "cell_type": "markdown",
      "source": [
        "##3. Model Implementation and Evaluation"
      ],
      "metadata": {
        "id": "BF_qNlU6xLwu"
      },
      "id": "BF_qNlU6xLwu"
    },
    {
      "cell_type": "markdown",
      "source": [
        "After balancing the dataset, we will now train the models. Starting with Logistic Regression as a baseline model is common, and then I will also explore more complex models like Random Forest for potentially better performance."
      ],
      "metadata": {
        "id": "pAU6smUJX0NH"
      },
      "id": "pAU6smUJX0NH"
    },
    {
      "cell_type": "code",
      "source": [
        "from sklearn.linear_model import LogisticRegression\n",
        "from sklearn.ensemble import RandomForestClassifier\n",
        "from sklearn.metrics import confusion_matrix, classification_report, accuracy_score\n",
        "\n",
        "# Logistic Regression\n",
        "log_reg = LogisticRegression(max_iter=1000)\n",
        "log_reg.fit(X_train_res, y_train_res)\n",
        "predictions_log_reg = log_reg.predict(X_test)\n",
        "\n",
        "# Evaluation\n",
        "print(\"Logistic Regression - Classification Report\")\n",
        "print(classification_report(y_test, predictions_log_reg))\n",
        "\n",
        "# Random Forest Classifier\n",
        "rfc = RandomForestClassifier()\n",
        "rfc.fit(X_train_res, y_train_res)\n",
        "predictions_rfc = rfc.predict(X_test)\n",
        "\n",
        "# Evaluation\n",
        "print(\"Random Forest - Classification Report\")\n",
        "print(classification_report(y_test, predictions_rfc))"
      ],
      "metadata": {
        "colab": {
          "base_uri": "https://localhost:8080/"
        },
        "id": "fjZITIkcx4WV",
        "outputId": "6e7aaab9-e541-4722-be17-f9346fd36ebc"
      },
      "id": "fjZITIkcx4WV",
      "execution_count": 22,
      "outputs": [
        {
          "output_type": "stream",
          "name": "stdout",
          "text": [
            "Logistic Regression - Classification Report\n",
            "              precision    recall  f1-score   support\n",
            "\n",
            "           0       1.00      0.97      0.99     56864\n",
            "           1       0.06      0.93      0.11        98\n",
            "\n",
            "    accuracy                           0.97     56962\n",
            "   macro avg       0.53      0.95      0.55     56962\n",
            "weighted avg       1.00      0.97      0.99     56962\n",
            "\n",
            "Random Forest - Classification Report\n",
            "              precision    recall  f1-score   support\n",
            "\n",
            "           0       1.00      1.00      1.00     56864\n",
            "           1       0.91      0.85      0.88        98\n",
            "\n",
            "    accuracy                           1.00     56962\n",
            "   macro avg       0.96      0.92      0.94     56962\n",
            "weighted avg       1.00      1.00      1.00     56962\n",
            "\n"
          ]
        }
      ]
    },
    {
      "cell_type": "markdown",
      "source": [
        "##4. Model Evaluation Interpretation"
      ],
      "metadata": {
        "id": "bPYasQXIdaGz"
      },
      "id": "bPYasQXIdaGz"
    },
    {
      "cell_type": "markdown",
      "source": [
        "**Logistic Regression Results Analysis**\n",
        "\n",
        "*High Recall for Frauds (1)*\n",
        "With a recall of 0.93, the Logistic Regression model is very good at identifying fraudulent transactions. However, this comes at the cost of a very low precision (0.06), indicating a high number of false positives—legitimate transactions wrongly classified as fraud.\n",
        "\n",
        "*F1-Score for Frauds*\n",
        "The low F1-score (0.11) for fraudulent transactions indicates an imbalance between precision and recall, heavily skewed towards recall.\n",
        "\n",
        "*Overall Accuracy*\n",
        "While the overall accuracy is high (97%), this metric is less informative in imbalanced datasets where the focus is on the performance metrics for the minority class.\n",
        "\n",
        "**Random Forest Results Analysis**\n",
        "\n",
        "*Improved Precision and Recall for Frauds (1)*\n",
        "\n",
        "The Random Forest model significantly improves precision (0.91) while maintaining a high recall (0.85) for fraudulent transactions. This balance is crucial for practical fraud detection systems, as it reduces the number of false alarms (false positives) without substantially sacrificing the ability to detect actual fraud.\n",
        "\n",
        "*High F1-Score for Frauds*\n",
        "\n",
        "The F1-score of 0.88 for fraudulent transactions reflects a well-balanced model that is both precise and sensitive. This balance is critical in fraud detection, where both identifying actual frauds and reducing false alarms are important.\n",
        "\n",
        "*Overall Accuracy*\n",
        "\n",
        "The Random Forest model achieves near-perfect overall accuracy (100%), but more importantly, it demonstrates excellent performance in identifying fraudulent transactions with high precision and recall.\n",
        "\n",
        "**Implications and Considerations**\n",
        "\n",
        "*Random Forest's Superior Performance*\n",
        "\n",
        "The Random Forest classifier outperforms Logistic Regression in this context, offering a more balanced approach to fraud detection. Its high precision for fraudulent transactions means fewer false positives, reducing the operational burden of investigating flagged transactions.\n",
        "\n",
        "*Operational Efficiency*\n",
        "\n",
        "High precision and recall for detecting frauds are essential for maintaining operational efficiency and customer trust. Random Forest's performance suggests it would result in fewer customer disruptions and more effective allocation of investigative resources.\n",
        "\n",
        "*Model Complexity and Interpretability*\n",
        "\n",
        "While Random Forest provides better results, it's also more complex and less interpretable than Logistic Regression. This trade-off between performance and interpretability is a common consideration in machine learning applications."
      ],
      "metadata": {
        "id": "Er6IOyhndhj5"
      },
      "id": "Er6IOyhndhj5"
    },
    {
      "cell_type": "markdown",
      "source": [
        "##5. Results Interpretation and Visualization\n"
      ],
      "metadata": {
        "id": "nHowAegBefT2"
      },
      "id": "nHowAegBefT2"
    },
    {
      "cell_type": "markdown",
      "source": [
        "To visualize these results, we can create comparison plots for precision, recall, and F1-scores for both models and use ROC curves to compare their overall performance."
      ],
      "metadata": {
        "id": "kDFaAcL9fNBq"
      },
      "id": "kDFaAcL9fNBq"
    },
    {
      "cell_type": "code",
      "source": [
        "import matplotlib.pyplot as plt\n",
        "import numpy as np\n",
        "\n",
        "# Data to plot\n",
        "n_groups = 3\n",
        "log_reg_scores = (0.06, 0.93, 0.11)  # Precision, Recall, F1-Score for Class 1 from Logistic Regression\n",
        "rf_scores = (0.91, 0.85, 0.88)  # Precision, Recall, F1-Score for Class 1 from Random Forest\n",
        "\n",
        "# Create plot\n",
        "fig, ax = plt.subplots()\n",
        "index = np.arange(n_groups)\n",
        "bar_width = 0.35\n",
        "opacity = 0.8\n",
        "\n",
        "rects1 = plt.bar(index, log_reg_scores, bar_width,\n",
        "alpha=opacity,\n",
        "color='b',\n",
        "label='Logistic Regression')\n",
        "\n",
        "rects2 = plt.bar(index + bar_width, rf_scores, bar_width,\n",
        "alpha=opacity,\n",
        "color='g',\n",
        "label='Random Forest')\n",
        "\n",
        "plt.xlabel('Metric')\n",
        "plt.ylabel('Scores')\n",
        "plt.title('Scores by model and metric')\n",
        "plt.xticks(index + bar_width / 2, ('Precision', 'Recall', 'F1-Score'))\n",
        "plt.legend()\n",
        "\n",
        "plt.tight_layout()\n",
        "plt.show()"
      ],
      "metadata": {
        "colab": {
          "base_uri": "https://localhost:8080/",
          "height": 487
        },
        "id": "qUmtEsHufPSx",
        "outputId": "8282b0f2-de6c-4291-9199-79e40ff173be"
      },
      "id": "qUmtEsHufPSx",
      "execution_count": 23,
      "outputs": [
        {
          "output_type": "display_data",
          "data": {
            "text/plain": [
              "<Figure size 640x480 with 1 Axes>"
            ],
            "image/png": "[encoded data removed]"
          },
          "metadata": {}
        }
      ]
    },
    {
      "cell_type": "markdown",
      "source": [
        "This clearly demonstrates the distinct performance characteristics of the two models:\n",
        "\n",
        "* Precision: Random Forest shows a much higher precision than Logistic Regression, indicating it is far better at correctly identifying the positive class (fraudulent transactions) without as many false positives.\n",
        "\n",
        "* Recall: Both models achieve high recall, but Logistic Regression has a slightly higher recall, suggesting it is slightly more sensitive to detecting fraudulent transactions but at the cost of a much higher false positive rate.\n",
        "\n",
        "* F1-Score: The Random Forest's F1-score is significantly higher than that of Logistic Regression, reflecting a better balance between precision and recall. This suggests that while Logistic Regression is aggressive in flagging fraud, leading to many false alarms, Random Forest provides a more reliable identification of fraudulent transactions.\n",
        "\n",
        "In summary, the Random Forest model outperforms Logistic Regression on this imbalanced dataset, particularly in the precision metric, which is crucial for minimizing false positives in fraud detection scenarios. The F1-score also highlights Random Forest's superior overall performance in terms of accuracy and balance. This visualization effectively communicates the differences in model performance, supporting the decision-making process in choosing the appropriate model for deployment."
      ],
      "metadata": {
        "id": "hvIT3Q8YgSNi"
      },
      "id": "hvIT3Q8YgSNi"
    },
    {
      "cell_type": "markdown",
      "source": [
        "*ROC Curve Comparison*\n",
        "\n",
        "To compare the models' overall performance, plotting ROC curves and comparing their AUC scores would be beneficial. This requires calculating the true positive rates and false positive rates for a range of thresholds."
      ],
      "metadata": {
        "id": "wz8J-RHmfc_k"
      },
      "id": "wz8J-RHmfc_k"
    },
    {
      "cell_type": "code",
      "source": [
        "predictions_log_reg_proba = log_reg.predict_proba(X_test)[:, 1]  # Probabilities for the positive class\n",
        "predictions_rfc_proba = rfc.predict_proba(X_test)[:, 1]  # Probabilities for the positive class"
      ],
      "metadata": {
        "id": "ipNMrb1Wf0wI"
      },
      "id": "ipNMrb1Wf0wI",
      "execution_count": 25,
      "outputs": []
    },
    {
      "cell_type": "code",
      "source": [
        "from sklearn.metrics import roc_curve, auc\n",
        "import matplotlib.pyplot as plt\n",
        "\n",
        "# Compute ROC curve and ROC area for each class\n",
        "fpr_log_reg, tpr_log_reg, _ = roc_curve(y_test, predictions_log_reg_proba)\n",
        "fpr_rfc, tpr_rfc, _ = roc_curve(y_test, predictions_rfc_proba)\n",
        "\n",
        "roc_auc_log_reg = auc(fpr_log_reg, tpr_log_reg)\n",
        "roc_auc_rfc = auc(fpr_rfc, tpr_rfc)\n",
        "\n",
        "# Plotting\n",
        "plt.figure(figsize=(8, 6))\n",
        "plt.plot(fpr_log_reg, tpr_log_reg, label='Logistic Regression (area = %0.2f)' % roc_auc_log_reg)\n",
        "plt.plot(fpr_rfc, tpr_rfc, label='Random Forest (area = %0.2f)' % roc_auc_rfc)\n",
        "plt.plot([0, 1], [0, 1], 'k--')  # random predictions curve\n",
        "plt.xlim([0.0, 1.0])\n",
        "plt.ylim([0.0, 1.05])\n",
        "plt.xlabel('False Positive Rate')\n",
        "plt.ylabel('True Positive Rate')\n",
        "plt.title('ROC Curve Comparison')\n",
        "plt.legend(loc=\"lower right\")\n",
        "plt.show()"
      ],
      "metadata": {
        "colab": {
          "base_uri": "https://localhost:8080/",
          "height": 564
        },
        "id": "dixEbIHnfhCT",
        "outputId": "dcc70bcd-0806-49e0-ad2f-01ea57b8ed67"
      },
      "id": "dixEbIHnfhCT",
      "execution_count": 26,
      "outputs": [
        {
          "output_type": "display_data",
          "data": {
            "text/plain": [
              "<Figure size 800x600 with 1 Axes>"
            ],
            "image/png": "[encoded data removed]"
          },
          "metadata": {}
        }
      ]
    },
    {
      "cell_type": "markdown",
      "source": [
        "Both curves are very close to the upper left corner of the plot, indicating excellent performance. This is also confirmed by the Area Under the Curve (AUC) scores for both models, which are equal to 0.98.\n",
        "\n",
        "Here are some key points for interpretation:\n",
        "\n",
        "* True Positive Rate (Sensitivity): Both models have a high TPR, suggesting that they are both effective at identifying fraudulent transactions.\n",
        "\n",
        "* False Positive Rate (1 - Specificity): The FPR for both models is low, as indicated by the curves staying towards the left-hand side of the plot, meaning that there are relatively few false positives compared to the number of true negatives.\n",
        "\n",
        "* AUC Score: The AUC score is a single scalar value that summarizes the overall performance of a classifier. An AUC score of 0.98 out of 1 indicates a very high level of discrimination ability. It's rare for two models to achieve the same AUC score, which suggests that they are almost equally effective at distinguishing between the two classes across all thresholds.\n",
        "\n",
        "**Visualization Observations**\n",
        "\n",
        "The overlap of the ROC curves for Logistic Regression and Random Forest means that, in terms of ROC and AUC, both models perform similarly well. This might be somewhat unexpected given the large difference in precision and recall reported earlier, especially the low precision of Logistic Regression.\n",
        "\n",
        "In practice, given the imbalanced nature of the dataset, a Precision-Recall curve might be more informative. It directly relates to the model's ability to detect the positive class (fraud) and would likely show a bigger difference between the two models.\n",
        "\n",
        "In summary, while the ROC curve comparison suggests both models are performing exceptionally well, other metrics like precision, recall, and the F1-score have shown that the Random Forest model is more balanced in terms of both identifying frauds and minimizing false alarms. This context is crucial for choosing the right model for practical deployment, where the costs of false positives and negatives can be significant."
      ],
      "metadata": {
        "id": "MjTnAcSohLIF"
      },
      "id": "MjTnAcSohLIF"
    },
    {
      "cell_type": "markdown",
      "source": [
        "##6. Real-world Implications"
      ],
      "metadata": {
        "id": "0Az29FKkhxEi"
      },
      "id": "0Az29FKkhxEi"
    },
    {
      "cell_type": "markdown",
      "source": [
        "In a real-world context, especially for credit card fraud detection, the implications of these results are significant:\n",
        "\n",
        "*Operational Efficiency*\n",
        "\n",
        "* Both models demonstrate high discrimination capabilities, which is essential for operational efficiency in fraud detection systems. They can correctly identify a high number of fraudulent transactions while keeping false positives low (as suggested by high AUC scores).\n",
        "* However, the practical deployment would favor the Random Forest model due to its higher precision, reducing the number of false positives, which can be costly and resource-intensive to investigate.\n",
        "\n",
        "*Customer Trust and Experience*\n",
        "\n",
        "* High precision in fraud detection ensures that legitimate customer transactions are less likely to be incorrectly flagged as fraud, minimizing disruptions to customer experience and maintaining trust.\n",
        "* Recurrent false alarms can lead to customer dissatisfaction. Therefore, the balance of high precision and recall is crucial.\n",
        "\n",
        "*Financial Implications*\n",
        "\n",
        "* Effective fraud detection models like these can save substantial amounts of money by preventing fraudulent transactions and reducing the need for remediation after fraud occurs.\n",
        "* Investment in advanced analytics and machine learning models could result in significant cost savings over less sophisticated fraud detection systems.\n",
        "\n",
        "*Scalability*\n",
        "\n",
        "* Models with high AUC scores are generally considered robust and may scale well with increasing data volume without a loss of performance.\n",
        "* The ability to maintain performance with increased transaction volumes is critical for systems that need to adapt to growing amounts of data over time.\n",
        "\n",
        "*Legal and Compliance*\n",
        "* Financial institutions are often subject to strict regulations regarding fraud detection and prevention. The use of effective machine learning models can help in meeting regulatory requirements and avoiding penalties.\n",
        "\n",
        "*Risk Management*\n",
        "\n",
        "* By accurately classifying and predicting fraudulent activities, the bank can manage risk more effectively, adjust their fraud detection strategies, and allocate resources where they are needed most."
      ],
      "metadata": {
        "id": "88bMh6poh8YX"
      },
      "id": "88bMh6poh8YX"
    },
    {
      "cell_type": "markdown",
      "source": [
        "##7. Reflection\n",
        "\n",
        "Reflecting on this credit card fraud detection exercise reveals several key insights and learning points:\n",
        "\n",
        "*Challenges Faced*\n",
        "\n",
        "One challenge was the highly technical nature of the models and the methods required to properly evaluate them. Conveying the results and their implications to stakeholders who may not have a technical background would require clear and effective communication, emphasizing the business impact rather than the technical details.\n",
        "\n",
        "\n",
        "*Importance of Handling Imbalanced Data*\n",
        "\n",
        "The nature of fraud detection problems often leads to imbalanced datasets since fraudulent transactions are relatively rare. This project underscored the importance of using appropriate metrics and balancing techniques. It demonstrated that conventional metrics like accuracy are not sufficient in such scenarios and that methods like precision, recall, and the F1-score, along with ROC-AUC, are far more informative.\n",
        "\n",
        "*Choice of Model*\n",
        "\n",
        "The difference in performance between Logistic Regression and Random Forest highlighted the impact of model selection. While Logistic Regression provided a strong baseline, Random Forest's ensemble approach improved precision without sacrificing recall substantially. This project served as a reminder that more complex models can offer substantial benefits, especially in terms of managing the trade-offs between different types of errors.\n",
        "\n",
        "*Model Evaluation Beyond AUC*\n",
        "\n",
        "The ROC curves for both models exhibited high AUC values, but the detailed classification reports revealed critical differences in performance. This serves as a valuable lesson that while summary statistics are useful, a deeper dive into the results is necessary to fully understand a model's strengths and weaknesses, especially in the context of real-world applications.\n",
        "\n",
        "*Real-World Implications and Cost Considerations*\n",
        "\n",
        "The practical aspects of deploying these models in a real business context led to discussions about operational efficiency, customer experience, financial implications, and compliance. It's clear that the benefits of an effective model extend beyond technical performance, affecting many facets of a business's operations.\n",
        "\n",
        "*Insights Gained*\n",
        "\n",
        "This project provided insights into the nature of fraud detection as a domain where false negatives (missed frauds) and false positives (legitimate transactions marked as fraud) carry different weights and implications. Balancing sensitivity and specificity is not just a statistical exercise but a business decision that can impact customer trust and a company's bottom line.\n",
        "\n",
        "*Future Directions*\n",
        "Future directions might include exploring additional models such as neural networks or gradient boosting machines, experimenting with different feature engineering techniques, or applying cost-sensitive learning to directly incorporate the financial implications of misclassifications into the training process."
      ],
      "metadata": {
        "id": "lqX01TiHjet1"
      },
      "id": "lqX01TiHjet1"
    },
    {
      "cell_type": "markdown",
      "source": [
        "##8. Conclusion\n",
        "\n",
        "The project was a comprehensive exercise in applying machine learning to an important and challenging real-world problem. It showcased the necessity of thoughtful model selection, the subtleties of performance metrics in imbalanced contexts, and the broader impact of data science in the commercial and regulatory landscape."
      ],
      "metadata": {
        "id": "9A_2e_xZkA7m"
      },
      "id": "9A_2e_xZkA7m"
    }
  ],
  "metadata": {
    "kernelspec": {
      "display_name": "Python 3 (ipykernel)",
      "language": "python",
      "name": "python3"
    },
    "language_info": {
      "codemirror_mode": {
        "name": "ipython",
        "version": 3
      },
      "file_extension": ".py",
      "mimetype": "text/x-python",
      "name": "python",
      "nbconvert_exporter": "python",
      "pygments_lexer": "ipython3",
      "version": "3.11.4"
    },
    "colab": {
      "provenance": []
    }
  },
  "nbformat": 4,
  "nbformat_minor": 5
}